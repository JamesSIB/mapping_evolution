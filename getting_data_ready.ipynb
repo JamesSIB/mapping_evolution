{
  "nbformat": 4,
  "nbformat_minor": 0,
  "metadata": {
    "colab": {
      "name": "getting_data_ready.ipynb",
      "provenance": [],
      "collapsed_sections": [
        "1wVzLGfIFZJo"
      ],
      "toc_visible": true,
      "include_colab_link": true
    },
    "kernelspec": {
      "name": "python3",
      "display_name": "Python 3"
    }
  },
  "cells": [
    {
      "cell_type": "markdown",
      "metadata": {
        "id": "view-in-github",
        "colab_type": "text"
      },
      "source": [
        "<a href=\"https://colab.research.google.com/github/ffg-kom/mapping_evolution/blob/master/getting_data_ready.ipynb\" target=\"_parent\"><img src=\"https://colab.research.google.com/assets/colab-badge.svg\" alt=\"Open In Colab\"/></a>"
      ]
    },
    {
      "cell_type": "markdown",
      "metadata": {
        "id": "b43wvy6RBNfq",
        "colab_type": "text"
      },
      "source": [
        "# Imports"
      ]
    },
    {
      "cell_type": "markdown",
      "metadata": {
        "id": "Tlp6A0TlB3rn",
        "colab_type": "text"
      },
      "source": [
        "The following code was copied from https://colab.research.google.com/github/nestauk/im_tutorials/blob/master/notebooks/01_intro_to_pandas_tutorial.ipynb."
      ]
    },
    {
      "cell_type": "code",
      "metadata": {
        "id": "T1hId0fb7-XH",
        "colab_type": "code",
        "outputId": "b81f7da8-e9cf-4a1c-c645-b83f7ac1d5e4",
        "colab": {
          "base_uri": "https://localhost:8080/",
          "height": 222
        }
      },
      "source": [
        "%load_ext autoreload\n",
        "%autoreload 2\n",
        "\n",
        "# install im_tutorial package\n",
        "!pip install git+https://github.com/nestauk/im_tutorials.git"
      ],
      "execution_count": 1,
      "outputs": [
        {
          "output_type": "stream",
          "text": [
            "Collecting git+https://github.com/nestauk/im_tutorials.git\n",
            "  Cloning https://github.com/nestauk/im_tutorials.git to /tmp/pip-req-build-6ywqz1d_\n",
            "  Running command git clone -q https://github.com/nestauk/im_tutorials.git /tmp/pip-req-build-6ywqz1d_\n",
            "Building wheels for collected packages: im-tutorials\n",
            "  Building wheel for im-tutorials (setup.py) ... \u001b[?25l\u001b[?25hdone\n",
            "  Created wheel for im-tutorials: filename=im_tutorials-0.1.1-cp36-none-any.whl size=15103 sha256=a9fd0f2d963585704d275bc2fee76e0a1c215a356c6ccf3ae8dce629c7e85e07\n",
            "  Stored in directory: /tmp/pip-ephem-wheel-cache-wm33ww2a/wheels/47/a3/cb/bdc5f9ba49bcfd2c6864b166a1566eb2f104113bf0c3500330\n",
            "Successfully built im-tutorials\n",
            "Installing collected packages: im-tutorials\n",
            "Successfully installed im-tutorials-0.1.1\n"
          ],
          "name": "stdout"
        }
      ]
    },
    {
      "cell_type": "code",
      "metadata": {
        "id": "xr-zKnF5ByVZ",
        "colab_type": "code",
        "colab": {}
      },
      "source": [
        "# numpy for mathematical functions\n",
        "import numpy as np\n",
        "# pandas for handling tabular data\n",
        "import pandas as pd\n",
        "# explained later\n",
        "from im_tutorials.data.cordis import h2020_projects\n",
        "\n",
        "# for plotting\n",
        "import matplotlib.pyplot as plt\n",
        "\n",
        "# data\n",
        "from im_tutorials.data.cordis import cordis_table"
      ],
      "execution_count": 0,
      "outputs": []
    },
    {
      "cell_type": "markdown",
      "metadata": {
        "id": "gD7Wa-SFFDkb",
        "colab_type": "text"
      },
      "source": [
        "# Loading data"
      ]
    },
    {
      "cell_type": "code",
      "metadata": {
        "id": "fLvnUgG5CXdf",
        "colab_type": "code",
        "outputId": "1997d383-8a87-418a-a9b6-6bafa4fe94f7",
        "colab": {
          "base_uri": "https://localhost:8080/",
          "height": 35
        }
      },
      "source": [
        "# load tables\n",
        "cordis_o_df = cordis_table('organisations')\n",
        "cordis_p_df = cordis_table('projects')\n",
        "cordis_p_o_df = cordis_table('project_organisations')\n",
        "cordis_pub_df = cordis_table('publications')\n",
        "\n",
        "# merge them\n",
        "cordis_project_orgs_df = cordis_p_o_df.merge(\n",
        "  cordis_o_df, left_on='organization_id', right_on='id', how='left'\n",
        ")\n",
        "cordis_project_orgs_df = cordis_project_orgs_df.merge(\n",
        "  cordis_p_df, left_on='project_rcn', right_on='rcn', how='left'\n",
        ")\n",
        "\n",
        "cordis_project_orgs_df.rename( columns={'contribution': 'ec_contribution_organization'\n",
        "                                        , 'ec_contribution': 'ec_contribution_project'\n",
        "                                        , 'total_cost': 'total_cost_project'\n",
        "                                       }, inplace=True )\n",
        "\n",
        "cordis_project_orgs_df.shape"
      ],
      "execution_count": 35,
      "outputs": [
        {
          "output_type": "execute_result",
          "data": {
            "text/plain": [
              "(251040, 25)"
            ]
          },
          "metadata": {
            "tags": []
          },
          "execution_count": 35
        }
      ]
    },
    {
      "cell_type": "code",
      "metadata": {
        "id": "4xAHZQ9MOd_E",
        "colab_type": "code",
        "outputId": "73ea75ce-d881-42c1-bf41-851eb19c9417",
        "colab": {
          "base_uri": "https://localhost:8080/",
          "height": 35
        }
      },
      "source": [
        "# add number of partners per project as a column\n",
        "count_partners_df = cordis_project_orgs_df[['project_rcn', 'organization_id']].groupby( by='project_rcn' ).count()\n",
        "count_partners_df.rename( columns={'organization_id': 'number_of_partners'}, inplace=True )\n",
        "\n",
        "cordis_project_orgs_df = cordis_project_orgs_df.merge(\n",
        "  count_partners_df, on='project_rcn', how='left'\n",
        ")\n",
        "\n",
        "# add number of publications per project as a column\n",
        "count_publications_df = cordis_pub_df[['id', 'project_rcn']].groupby( by='project_rcn' ).count()\n",
        "count_publications_df.rename( columns={'id': 'number_of_publications'}, inplace=True )\n",
        "\n",
        "cordis_project_orgs_df = cordis_project_orgs_df.merge(\n",
        "  count_publications_df, on='project_rcn', how='left'\n",
        ")\n",
        "\n",
        "\n",
        "# shape: should by (something, 27) \n",
        "cordis_project_orgs_df.shape\n"
      ],
      "execution_count": 36,
      "outputs": [
        {
          "output_type": "execute_result",
          "data": {
            "text/plain": [
              "(251040, 27)"
            ]
          },
          "metadata": {
            "tags": []
          },
          "execution_count": 36
        }
      ]
    },
    {
      "cell_type": "code",
      "metadata": {
        "id": "URh9mweOTru4",
        "colab_type": "code",
        "colab": {}
      },
      "source": [
        "# preparing dictionaries to effectively group data\n",
        "dict_funding_schemes_along_programmes = {'BBI-CSA - Bio-based Industries Coordination and Support action': 'Bio-based Industries',\n",
        "                                         'BBI-IA-DEMO - Bio-based Industries Innovation action - Demonstration': 'Bio-based Industries', \n",
        "                                         'BBI-IA-FLAG - Bio-based Industries Innovation action - Flagship': 'Bio-based Industries',\n",
        "                                         'BBI-RIA - Bio-based Industries Research and Innovation action': 'Bio-based Industries', \n",
        "                                         'COFUND-EJP - COFUND (European Joint Programme)': '(general)', \n",
        "                                         'COFUND-PCP - COFUND (PCP)': '(general)', \n",
        "                                         'CS2-CSA - Coordination & support action': 'Clean Sky 2', \n",
        "                                         'CS2-IA - Innovation action': 'Clean Sky 2', \n",
        "                                         'CS2-RIA - Research and Innovation action': 'Clean Sky 2', \n",
        "                                         'CSA - Coordination and support action': '(general)', \n",
        "                                         'CSA-LS - CSA Lump sum': '(general)', \n",
        "                                         'ECSEL-CSA - ECSEL Coordination & Support action': 'ECSEL (Electronic Components and Systems for European Leadership)', \n",
        "                                         'ECSEL-IA - ECSEL Innovation Action': 'ECSEL (Electronic Components and Systems for European Leadership)', \n",
        "                                         'ECSEL-RIA - ECSEL Research and Innovation Action': 'ECSEL (Electronic Components and Systems for European Leadership)', \n",
        "                                         'ERA-NET-Cofund - ERA-NET Cofund': 'ERA-NET', \n",
        "                                         'ERC-ADG - Advanced Grant': 'ERC (European Research Council)', \n",
        "                                         'ERC-COG - Consolidator Grant': 'ERC (European Research Council)', \n",
        "                                         'ERC-POC - Proof of Concept Grant': 'ERC (European Research Council)', \n",
        "                                         'ERC-POC-LS - ERC Proof of Concept Lump Sum Pilot': 'ERC (European Research Council)', \n",
        "                                         'ERC-STG - Starting Grant': 'ERC (European Research Council)', \n",
        "                                         'FCH2-CSA - Coordination & support action': 'FCH2 (Fuel Cells and Hydrogen 2)', \n",
        "                                         'FCH2-IA - Innovation action': 'FCH2 (Fuel Cells and Hydrogen 2)', \n",
        "                                         'FCH2-RIA - Research and Innovation action': 'FCH2 (Fuel Cells and Hydrogen 2)', \n",
        "                                         'H2020-EEN-SGA - Specific Grant Agreement Enterprise Europe Network (EEN)': 'SME (Small and medium-sized Enterprises)', \n",
        "                                         'IA - Innovation action': '(general)', \n",
        "                                         'IA-LS - Innovation action Lump Sum': '(general)', \n",
        "                                         'IMI2-CSA - Coordination & support action': 'IMI2 (Innovative Medicines Initiative)', \n",
        "                                         'IMI2-RIA - Research and Innovation action': 'IMI2 (Innovative Medicines Initiative)', \n",
        "                                         'MSCA-COFUND-DP - Doctoral programmes': 'MSCA (Marie Skłodowska-Curie Actions)', \n",
        "                                         'MSCA-COFUND-FP - Fellowship programmes': 'MSCA (Marie Skłodowska-Curie Actions)', \n",
        "                                         'MSCA-IF-EF-CAR - CAR â€“ Career Restart panel': 'MSCA (Marie Skłodowska-Curie Actions)', \n",
        "                                         'MSCA-IF-EF-RI - RI â€“ Reintegration panel': 'MSCA (Marie Skłodowska-Curie Actions)', \n",
        "                                         'MSCA-IF-EF-SE - Society and Enterprise panel': 'MSCA (Marie Skłodowska-Curie Actions)', \n",
        "                                         'MSCA-IF-EF-ST - Standard EF': 'MSCA (Marie Skłodowska-Curie Actions)', \n",
        "                                         'MSCA-IF-GF - Global Fellowships': 'MSCA (Marie Skłodowska-Curie Actions)', \n",
        "                                         'MSCA-ITN-EID - European Industrial Doctorates': 'MSCA (Marie Skłodowska-Curie Actions)', \n",
        "                                         'MSCA-ITN-EJD - European Joint Doctorates': 'MSCA (Marie Skłodowska-Curie Actions)', \n",
        "                                         'MSCA-ITN-ETN - European Training Networks': 'MSCA (Marie Skłodowska-Curie Actions)', \n",
        "                                         'MSCA-RISE - Marie SkÅ‚odowska-Curie Research and Innovation Staff Exchange (RISE)': 'MSCA (Marie Skłodowska-Curie Actions)', \n",
        "                                         'PCP - Pre-Commercial Procurement': 'PCP & PPI (Pre-commercial or public Procurement)', \n",
        "                                         'PPI - Public Procurement of Innovative solutions': 'PCP & PPI (Pre-commercial or public Procurement)', \n",
        "                                         'RIA - Research and Innovation action': '(general)', \n",
        "                                         'RIA-LS - Research and Innovation action Lump Sum': '(general)', \n",
        "                                         'SESAR-CSA - Coordination and Support Action': 'SESAR (Single European Sky)', \n",
        "                                         'SESAR-IA - Innovation action': 'SESAR (Single European Sky)', \n",
        "                                         'SESAR-RIA - Research and Innovation action': 'SESAR (Single European Sky)', \n",
        "                                         'SGA-CSA - Specific Grant agreement and Coordination and Support Action': '(general)', \n",
        "                                         'SGA-RIA - SGA-RIA': '(general)', \n",
        "                                         'Shift2Rail-CSA - Coordination and Support Action': 'Shift2Rail', \n",
        "                                         'Shift2Rail-IA - Innovation action': 'Shift2Rail', \n",
        "                                         'Shift2Rail-IA-LS - Innovation Action Lump-Sum': 'Shift2Rail', \n",
        "                                         'Shift2Rail-RIA - Research and Innovation action': 'Shift2Rail', \n",
        "                                         'Shift2Rail-RIA-LS - Shift2Rail Research and Innovation Action Lump-Sum': 'Shift2Rail', \n",
        "                                         'SME-1 - SME instrument phase 1': 'SME (Small and medium-sized Enterprises)', \n",
        "                                         'SME-2 - SME instrument phase 2': 'SME (Small and medium-sized Enterprises)'\n",
        "                                        }\n",
        "\n",
        "dict_funding_schemes_along_actions = {'BBI-CSA - Bio-based Industries Coordination and Support action': 'CSA (Coordination and Support Action)',\n",
        "                                      'BBI-IA-DEMO - Bio-based Industries Innovation action - Demonstration': 'IA (Innovation Action)',\n",
        "                                      'BBI-IA-FLAG - Bio-based Industries Innovation action - Flagship': 'IA (Innovation Action)',\n",
        "                                      'BBI-RIA - Bio-based Industries Research and Innovation action': 'RIA (Research and Innovation Action)',\n",
        "                                      'COFUND-EJP - COFUND (European Joint Programme)': 'COFUND',\n",
        "                                      'COFUND-PCP - COFUND (PCP)': 'COFUND',\n",
        "                                      'CS2-CSA - Coordination & support action': 'CSA (Coordination and Support Action)',\n",
        "                                      'CS2-IA - Innovation action': 'IA (Innovation Action)',\n",
        "                                      'CS2-RIA - Research and Innovation action': 'RIA (Research and Innovation Action)',\n",
        "                                      'CSA - Coordination and support action': 'CSA (Coordination and Support Action)',\n",
        "                                      'CSA-LS - CSA Lump sum': 'CSA (Coordination and Support Action)',\n",
        "                                      'ECSEL-CSA - ECSEL Coordination & Support action': 'CSA (Coordination and Support Action)',\n",
        "                                      'ECSEL-IA - ECSEL Innovation Action': 'IA (Innovation Action)',\n",
        "                                      'ECSEL-RIA - ECSEL Research and Innovation Action': 'RIA (Research and Innovation Action)',\n",
        "                                      'ERA-NET-Cofund - ERA-NET Cofund': 'COFUND',\n",
        "                                      'ERC-ADG - Advanced Grant': 'Grant',\n",
        "                                      'ERC-COG - Consolidator Grant': 'Grant',\n",
        "                                      'ERC-POC - Proof of Concept Grant': 'Grant',\n",
        "                                      'ERC-POC-LS - ERC Proof of Concept Lump Sum Pilot': 'Grant',\n",
        "                                      'ERC-STG - Starting Grant': 'Grant',\n",
        "                                      'FCH2-CSA - Coordination & support action': 'CSA (Coordination and Support Action)',\n",
        "                                      'FCH2-IA - Innovation action': 'IA (Innovation Action)',\n",
        "                                      'FCH2-RIA - Research and Innovation action': 'RIA (Research and Innovation Action)',\n",
        "                                      'H2020-EEN-SGA - Specific Grant Agreement Enterprise Europe Network (EEN)': 'SME (Small and medium-sized Enterprises)',\n",
        "                                      'IA - Innovation action': 'IA (Innovation Action)',\n",
        "                                      'IA-LS - Innovation action Lump Sum': 'IA (Innovation Action)',\n",
        "                                      'IMI2-CSA - Coordination & support action': 'CSA (Coordination and Support Action)',\n",
        "                                      'IMI2-RIA - Research and Innovation action': 'RIA (Research and Innovation Action)',\n",
        "                                      'MSCA-COFUND-DP - Doctoral programmes': 'COFUND',\n",
        "                                      'MSCA-COFUND-FP - Fellowship programmes': 'COFUND',\n",
        "                                      'MSCA-IF-EF-CAR - CAR â€“ Career Restart panel': 'Fellowship',\n",
        "                                      'MSCA-IF-EF-RI - RI â€“ Reintegration panel': 'Fellowship',\n",
        "                                      'MSCA-IF-EF-SE - Society and Enterprise panel': 'Fellowship',\n",
        "                                      'MSCA-IF-EF-ST - Standard EF': 'Fellowship',\n",
        "                                      'MSCA-IF-GF - Global Fellowships': 'Fellowship',\n",
        "                                      'MSCA-ITN-EID - European Industrial Doctorates': 'Innovative Training Networks',\n",
        "                                      'MSCA-ITN-EJD - European Joint Doctorates': 'Innovative Training Networks',\n",
        "                                      'MSCA-ITN-ETN - European Training Networks': 'Innovative Training Networks',\n",
        "                                      'MSCA-RISE - Marie SkÅ‚odowska-Curie Research and Innovation Staff Exchange (RISE)': 'Research & Innovation Staff Exchange',\n",
        "                                      'PCP - Pre-Commercial Procurement': 'Procurement',\n",
        "                                      'PPI - Public Procurement of Innovative solutions': 'Procurement',\n",
        "                                      'RIA - Research and Innovation action': 'RIA (Research and Innovation Action)',\n",
        "                                      'RIA-LS - Research and Innovation action Lump Sum': 'RIA (Research and Innovation Action)',\n",
        "                                      'SESAR-CSA - Coordination and Support Action': 'CSA (Coordination and Support Action)',\n",
        "                                      'SESAR-IA - Innovation action': 'IA (Innovation Action)',\n",
        "                                      'SESAR-RIA - Research and Innovation action': 'RIA (Research and Innovation Action)',\n",
        "                                      'SGA-CSA - Specific Grant agreement and Coordination and Support Action': 'CSA (Coordination and Support Action)',\n",
        "                                      'SGA-RIA - SGA-RIA': 'RIA (Research and Innovation Action)',\n",
        "                                      'Shift2Rail-CSA - Coordination and Support Action': 'CSA (Coordination and Support Action)',\n",
        "                                      'Shift2Rail-IA - Innovation action': 'IA (Innovation Action)',\n",
        "                                      'Shift2Rail-IA-LS - Innovation Action Lump-Sum': 'IA (Innovation Action)',\n",
        "                                      'Shift2Rail-RIA - Research and Innovation action': 'RIA (Research and Innovation Action)',\n",
        "                                      'Shift2Rail-RIA-LS - Shift2Rail Research and Innovation Action Lump-Sum': 'RIA (Research and Innovation Action)',\n",
        "                                      'SME-1 - SME instrument phase 1': 'SME (Small and medium-sized Enterprises)',\n",
        "                                      'SME-2 - SME instrument phase 2': 'SME (Small and medium-sized Enterprises)'\n",
        "                                     }\n"
      ],
      "execution_count": 0,
      "outputs": []
    },
    {
      "cell_type": "code",
      "metadata": {
        "id": "UMo4DoWfU92F",
        "colab_type": "code",
        "colab": {
          "base_uri": "https://localhost:8080/",
          "height": 35
        },
        "outputId": "3c03966b-c789-4f1d-88ed-1d9a600a64b9"
      },
      "source": [
        "# add dictionaries as new columns\n",
        "cordis_project_orgs_df['funding_scheme_programme'] = cordis_project_orgs_df['funding_scheme']\n",
        "cordis_project_orgs_df['funding_scheme_programme'] = cordis_project_orgs_df['funding_scheme_programme'].map(dict_funding_schemes_along_programmes)\n",
        "\n",
        "cordis_project_orgs_df['funding_scheme_action'] = cordis_project_orgs_df['funding_scheme']\n",
        "cordis_project_orgs_df['funding_scheme_action'] = cordis_project_orgs_df['funding_scheme_action'].map(dict_funding_schemes_along_actions)\n",
        "\n",
        "\n",
        "cordis_project_orgs_df.shape\n",
        "    "
      ],
      "execution_count": 38,
      "outputs": [
        {
          "output_type": "execute_result",
          "data": {
            "text/plain": [
              "(251040, 29)"
            ]
          },
          "metadata": {
            "tags": []
          },
          "execution_count": 38
        }
      ]
    },
    {
      "cell_type": "code",
      "metadata": {
        "id": "g04kcY5p6Gma",
        "colab_type": "code",
        "outputId": "b00f442b-2053-4410-df56-fd48a4280d1b",
        "colab": {
          "base_uri": "https://localhost:8080/",
          "height": 35
        }
      },
      "source": [
        "# narrow our dataset down to what we want to work with\n",
        "subset = cordis_project_orgs_df[\n",
        "    (cordis_project_orgs_df.activity_type == 'Private for-profit entities (excluding Higher or Secondary Education Establishments)')\n",
        "  & (cordis_project_orgs_df.framework == 'H2020')\n",
        "]\n",
        "\n",
        "df = subset[['organization_id', 'start_date_code', 'funding_scheme', 'funding_scheme_programme', 'funding_scheme_action', 'number_of_partners', 'number_of_publications', 'ec_contribution_organization', 'ec_contribution_project', 'total_cost_project']]\n",
        "df.shape"
      ],
      "execution_count": 39,
      "outputs": [
        {
          "output_type": "execute_result",
          "data": {
            "text/plain": [
              "(37138, 10)"
            ]
          },
          "metadata": {
            "tags": []
          },
          "execution_count": 39
        }
      ]
    },
    {
      "cell_type": "markdown",
      "metadata": {
        "id": "1wVzLGfIFZJo",
        "colab_type": "text"
      },
      "source": [
        "\n",
        "# Playing with the data\n",
        "\n",
        "(No need to to run anything from in here when preparing data for export.)"
      ]
    },
    {
      "cell_type": "code",
      "metadata": {
        "id": "qSpqE1TZGnL0",
        "colab_type": "code",
        "outputId": "44ab5939-31fe-4e22-dd55-de8094243341",
        "colab": {
          "base_uri": "https://localhost:8080/",
          "height": 165
        }
      },
      "source": [
        "cordis_project_orgs_df.columns"
      ],
      "execution_count": 0,
      "outputs": [
        {
          "output_type": "execute_result",
          "data": {
            "text/plain": [
              "Index(['project_rcn', 'organization_id', 'activity_type', 'address',\n",
              "       'ec_contribution_organization', 'type', 'website_x', 'id', 'name',\n",
              "       'country_code', 'country_name', 'rcn', 'acronym', 'end_date_code',\n",
              "       'ec_contribution_project', 'framework', 'funding_scheme',\n",
              "       'funded_under', 'objective', 'project_description', 'start_date_code',\n",
              "       'status', 'title', 'total_cost_project', 'website_y',\n",
              "       'number_of_partners'],\n",
              "      dtype='object')"
            ]
          },
          "metadata": {
            "tags": []
          },
          "execution_count": 9
        }
      ]
    },
    {
      "cell_type": "code",
      "metadata": {
        "id": "agGlHcvZEJnQ",
        "colab_type": "code",
        "outputId": "7b0310df-d477-470b-a789-dc23fdfd8f02",
        "colab": {
          "base_uri": "https://localhost:8080/",
          "height": 146
        }
      },
      "source": [
        "cordis_project_orgs_df['activity_type'].value_counts()"
      ],
      "execution_count": 0,
      "outputs": [
        {
          "output_type": "execute_result",
          "data": {
            "text/plain": [
              "Higher or Secondary Education Establishments                                                         88335\n",
              "Private for-profit entities (excluding Higher or Secondary Education Establishments)                 78810\n",
              "Research Organisations                                                                               55099\n",
              "Other                                                                                                15406\n",
              "Public bodies (excluding Research Organisations and Secondary or Higher Education Establishments)    12454\n",
              "                                                                                                       936\n",
              "Name: activity_type, dtype: int64"
            ]
          },
          "metadata": {
            "tags": []
          },
          "execution_count": 70
        }
      ]
    },
    {
      "cell_type": "code",
      "metadata": {
        "id": "5-R2gHIuHLIa",
        "colab_type": "code",
        "outputId": "b17ecd57-95d2-4823-d548-26fb0e49aaa7",
        "colab": {
          "base_uri": "https://localhost:8080/",
          "height": 128
        }
      },
      "source": [
        "# within subset, how often do organisations appear\n",
        "subset['organization_id'].value_counts().head()\n",
        "\n"
      ],
      "execution_count": 0,
      "outputs": [
        {
          "output_type": "execute_result",
          "data": {
            "text/plain": [
              "999993856    148\n",
              "999960488     84\n",
              "999909854     79\n",
              "999951467     76\n",
              "999908787     73\n",
              "Name: organization_id, dtype: int64"
            ]
          },
          "metadata": {
            "tags": []
          },
          "execution_count": 36
        }
      ]
    },
    {
      "cell_type": "code",
      "metadata": {
        "id": "vqi_ZO1HKC4D",
        "colab_type": "code",
        "colab": {}
      },
      "source": [
        "subset[['organization_id', 'start_date_code', 'funding_scheme', 'number_of_partners', 'ec_contribution_organization', 'ec_contribution_project', 'total_cost_project']]\n"
      ],
      "execution_count": 0,
      "outputs": []
    },
    {
      "cell_type": "code",
      "metadata": {
        "id": "qIiwnrBp0yM9",
        "colab_type": "code",
        "colab": {}
      },
      "source": [
        "for i in range(100):\n",
        "  print(cordis_project_orgs_df.loc[i + 10000].funded_under[0]['title'])\n",
        "\n"
      ],
      "execution_count": 0,
      "outputs": []
    },
    {
      "cell_type": "code",
      "metadata": {
        "id": "gSx90hEWBZf-",
        "colab_type": "code",
        "colab": {
          "base_uri": "https://localhost:8080/",
          "height": 74
        },
        "outputId": "d0f53e07-5828-4a11-e1a7-43179731ca23"
      },
      "source": [
        "df['funding_scheme'].value_counts().to_csv('funding_scheme_grouping.csv')"
      ],
      "execution_count": 16,
      "outputs": [
        {
          "output_type": "stream",
          "text": [
            "/usr/local/lib/python3.6/dist-packages/ipykernel_launcher.py:1: FutureWarning: The signature of `Series.to_csv` was aligned to that of `DataFrame.to_csv`, and argument 'header' will change its default value from False to True: please pass an explicit value to suppress this warning.\n",
            "  \"\"\"Entry point for launching an IPython kernel.\n"
          ],
          "name": "stderr"
        }
      ]
    },
    {
      "cell_type": "markdown",
      "metadata": {
        "id": "KifyiO6cw2Aw",
        "colab_type": "text"
      },
      "source": [
        "# Preparing data for a Sankey diagram\n",
        "\n",
        "\n"
      ]
    },
    {
      "cell_type": "code",
      "metadata": {
        "id": "ds-BbMtCxAhX",
        "colab_type": "code",
        "outputId": "e2a2c332-49e3-448a-c8c4-541bd589edc9",
        "colab": {
          "base_uri": "https://localhost:8080/",
          "height": 319
        }
      },
      "source": [
        "# prepare the column that shall be used as the category shown in the sankey diagram\n",
        "#   v   v   v   v   v   v   v   v   v   #\n",
        "sankey_column = 'funding_scheme_action'\n",
        "#   ^   ^   ^   ^   ^   ^   ^   ^   ^   #\n",
        "df.rename(columns={sankey_column:'sankey'}, inplace=True)\n",
        "\n",
        "\n",
        "# putting data in order\n",
        "df = df.sort_values( by=['organization_id', 'start_date_code'] ).reset_index()\n",
        "\n",
        "# add a column that numbers entries per organisation\n",
        "df['organization_entry_number'] = df.groupby('organization_id').cumcount()\n",
        "\n",
        "df[['organization_id', 'start_date_code', 'organization_entry_number']].head()"
      ],
      "execution_count": 40,
      "outputs": [
        {
          "output_type": "stream",
          "text": [
            "/usr/local/lib/python3.6/dist-packages/pandas/core/frame.py:4025: SettingWithCopyWarning: \n",
            "A value is trying to be set on a copy of a slice from a DataFrame\n",
            "\n",
            "See the caveats in the documentation: http://pandas.pydata.org/pandas-docs/stable/indexing.html#indexing-view-versus-copy\n",
            "  return super(DataFrame, self).rename(**kwargs)\n"
          ],
          "name": "stderr"
        },
        {
          "output_type": "execute_result",
          "data": {
            "text/html": [
              "<div>\n",
              "<style scoped>\n",
              "    .dataframe tbody tr th:only-of-type {\n",
              "        vertical-align: middle;\n",
              "    }\n",
              "\n",
              "    .dataframe tbody tr th {\n",
              "        vertical-align: top;\n",
              "    }\n",
              "\n",
              "    .dataframe thead th {\n",
              "        text-align: right;\n",
              "    }\n",
              "</style>\n",
              "<table border=\"1\" class=\"dataframe\">\n",
              "  <thead>\n",
              "    <tr style=\"text-align: right;\">\n",
              "      <th></th>\n",
              "      <th>organization_id</th>\n",
              "      <th>start_date_code</th>\n",
              "      <th>organization_entry_number</th>\n",
              "    </tr>\n",
              "  </thead>\n",
              "  <tbody>\n",
              "    <tr>\n",
              "      <th>0</th>\n",
              "      <td>888888310</td>\n",
              "      <td>2016-12-01</td>\n",
              "      <td>0</td>\n",
              "    </tr>\n",
              "    <tr>\n",
              "      <th>1</th>\n",
              "      <td>888888341</td>\n",
              "      <td>2018-01-01</td>\n",
              "      <td>0</td>\n",
              "    </tr>\n",
              "    <tr>\n",
              "      <th>2</th>\n",
              "      <td>888888620</td>\n",
              "      <td>2017-09-01</td>\n",
              "      <td>0</td>\n",
              "    </tr>\n",
              "    <tr>\n",
              "      <th>3</th>\n",
              "      <td>888888655</td>\n",
              "      <td>2017-03-01</td>\n",
              "      <td>0</td>\n",
              "    </tr>\n",
              "    <tr>\n",
              "      <th>4</th>\n",
              "      <td>888888707</td>\n",
              "      <td>2016-09-01</td>\n",
              "      <td>0</td>\n",
              "    </tr>\n",
              "  </tbody>\n",
              "</table>\n",
              "</div>"
            ],
            "text/plain": [
              "   organization_id start_date_code  organization_entry_number\n",
              "0        888888310      2016-12-01                          0\n",
              "1        888888341      2018-01-01                          0\n",
              "2        888888620      2017-09-01                          0\n",
              "3        888888655      2017-03-01                          0\n",
              "4        888888707      2016-09-01                          0"
            ]
          },
          "metadata": {
            "tags": []
          },
          "execution_count": 40
        }
      ]
    },
    {
      "cell_type": "code",
      "metadata": {
        "id": "Qk_VLpr0QKSS",
        "colab_type": "code",
        "outputId": "4ed2e467-4e20-4ccd-e89e-d97c59cab23d",
        "colab": {
          "base_uri": "https://localhost:8080/",
          "height": 35
        }
      },
      "source": [
        "# looking at first two entries of organisations\n",
        "first = df[df['organization_entry_number'] == 0]\n",
        "second = df[df['organization_entry_number'] == 1]\n",
        "\n",
        "onestep = second.merge(first, on='organization_id', how='left')\n",
        "\n",
        "# aggregate over sankey-columns\n",
        "sankey_df = onestep[['sankey_y', 'sankey_x', 'organization_id']].groupby(['sankey_y', 'sankey_x']).count()\n",
        "\n",
        "# prepare for proper output (index -> columns, renaming)\n",
        "sankey_df.reset_index(level=['sankey_y', 'sankey_x'], inplace=True)\n",
        "sankey_df.rename(columns={'sankey_y':'source', 'sankey_x':'target'}, inplace=True)\n",
        "\n",
        "# add a blank space to all targets (so targets differ from sources)\n",
        "sankey_df['target'] = sankey_df['target'] + ' '\n",
        "\n",
        "sankey_df.shape"
      ],
      "execution_count": 41,
      "outputs": [
        {
          "output_type": "execute_result",
          "data": {
            "text/plain": [
              "(62, 3)"
            ]
          },
          "metadata": {
            "tags": []
          },
          "execution_count": 41
        }
      ]
    },
    {
      "cell_type": "code",
      "metadata": {
        "id": "5Y_wmoSDSuu4",
        "colab_type": "code",
        "colab": {}
      },
      "source": [
        "# export csv\n",
        "sankey_df.to_csv('sankey_onestep_data.csv', index=False, sep=';')\n"
      ],
      "execution_count": 0,
      "outputs": []
    },
    {
      "cell_type": "code",
      "metadata": {
        "id": "fQ3vgsKqUm0-",
        "colab_type": "code",
        "colab": {}
      },
      "source": [
        ""
      ],
      "execution_count": 0,
      "outputs": []
    }
  ]
}