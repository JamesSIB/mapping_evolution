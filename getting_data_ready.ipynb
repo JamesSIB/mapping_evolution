{
  "nbformat": 4,
  "nbformat_minor": 0,
  "metadata": {
    "colab": {
      "name": "getting_data_ready.ipynb",
      "provenance": [],
      "collapsed_sections": [
        "1wVzLGfIFZJo"
      ],
      "toc_visible": true,
      "include_colab_link": true
    },
    "kernelspec": {
      "name": "python3",
      "display_name": "Python 3"
    }
  },
  "cells": [
    {
      "cell_type": "markdown",
      "metadata": {
        "id": "view-in-github",
        "colab_type": "text"
      },
      "source": [
        "<a href=\"https://colab.research.google.com/github/ffg-kom/mapping_evolution/blob/master/getting_data_ready.ipynb\" target=\"_parent\"><img src=\"https://colab.research.google.com/assets/colab-badge.svg\" alt=\"Open In Colab\"/></a>"
      ]
    },
    {
      "cell_type": "markdown",
      "metadata": {
        "id": "b43wvy6RBNfq",
        "colab_type": "text"
      },
      "source": [
        "# Imports"
      ]
    },
    {
      "cell_type": "markdown",
      "metadata": {
        "id": "Tlp6A0TlB3rn",
        "colab_type": "text"
      },
      "source": [
        "The following code was copied from https://colab.research.google.com/github/nestauk/im_tutorials/blob/master/notebooks/01_intro_to_pandas_tutorial.ipynb."
      ]
    },
    {
      "cell_type": "code",
      "metadata": {
        "id": "T1hId0fb7-XH",
        "colab_type": "code",
        "outputId": "a5db4858-69a5-4874-9167-d8182d733f7e",
        "colab": {
          "base_uri": "https://localhost:8080/",
          "height": 240
        }
      },
      "source": [
        "%load_ext autoreload\n",
        "%autoreload 2\n",
        "\n",
        "# install im_tutorial package\n",
        "!pip install git+https://github.com/nestauk/im_tutorials.git"
      ],
      "execution_count": 0,
      "outputs": [
        {
          "output_type": "stream",
          "text": [
            "The autoreload extension is already loaded. To reload it, use:\n",
            "  %reload_ext autoreload\n",
            "Collecting git+https://github.com/nestauk/im_tutorials.git\n",
            "  Cloning https://github.com/nestauk/im_tutorials.git to /tmp/pip-req-build-xa9si820\n",
            "  Running command git clone -q https://github.com/nestauk/im_tutorials.git /tmp/pip-req-build-xa9si820\n",
            "Requirement already satisfied (use --upgrade to upgrade): im-tutorials==0.1.1 from git+https://github.com/nestauk/im_tutorials.git in /usr/local/lib/python3.6/dist-packages\n",
            "Building wheels for collected packages: im-tutorials\n",
            "  Building wheel for im-tutorials (setup.py) ... \u001b[?25l\u001b[?25hdone\n",
            "  Created wheel for im-tutorials: filename=im_tutorials-0.1.1-cp36-none-any.whl size=15103 sha256=f92906c31322f3acfd5ea3f784af47d8cf37d2b6b66315a52dba0bf5cf39d878\n",
            "  Stored in directory: /tmp/pip-ephem-wheel-cache-4uz_o3mg/wheels/47/a3/cb/bdc5f9ba49bcfd2c6864b166a1566eb2f104113bf0c3500330\n",
            "Successfully built im-tutorials\n"
          ],
          "name": "stdout"
        }
      ]
    },
    {
      "cell_type": "code",
      "metadata": {
        "id": "xr-zKnF5ByVZ",
        "colab_type": "code",
        "colab": {}
      },
      "source": [
        "# numpy for mathematical functions\n",
        "import numpy as np\n",
        "# pandas for handling tabular data\n",
        "import pandas as pd\n",
        "# explained later\n",
        "from im_tutorials.data.cordis import h2020_projects\n",
        "\n",
        "# for plotting\n",
        "import matplotlib.pyplot as plt\n",
        "\n",
        "# data\n",
        "from im_tutorials.data.cordis import cordis_table"
      ],
      "execution_count": 0,
      "outputs": []
    },
    {
      "cell_type": "markdown",
      "metadata": {
        "id": "gD7Wa-SFFDkb",
        "colab_type": "text"
      },
      "source": [
        "# Loading data"
      ]
    },
    {
      "cell_type": "code",
      "metadata": {
        "id": "fLvnUgG5CXdf",
        "colab_type": "code",
        "outputId": "abadeed3-c081-4935-f4be-15f672ada1b9",
        "colab": {
          "base_uri": "https://localhost:8080/",
          "height": 35
        }
      },
      "source": [
        "# load tables\n",
        "cordis_o_df = cordis_table('organisations')\n",
        "cordis_p_df = cordis_table('projects')\n",
        "cordis_p_o_df = cordis_table('project_organisations')\n",
        "cordis_pub_df = cordis_table('publications')\n",
        "\n",
        "# merge them\n",
        "cordis_project_orgs_df = cordis_p_o_df.merge(\n",
        "  cordis_o_df, left_on='organization_id', right_on='id', how='left'\n",
        ")\n",
        "cordis_project_orgs_df = cordis_project_orgs_df.merge(\n",
        "  cordis_p_df, left_on='project_rcn', right_on='rcn', how='left'\n",
        ")\n",
        "\n",
        "cordis_project_orgs_df.rename( columns={'contribution': 'ec_contribution_organization'\n",
        "                                        , 'ec_contribution': 'ec_contribution_project'\n",
        "                                        , 'total_cost': 'total_cost_project'\n",
        "                                       }, inplace=True )\n",
        "\n",
        "cordis_project_orgs_df.shape"
      ],
      "execution_count": 203,
      "outputs": [
        {
          "output_type": "execute_result",
          "data": {
            "text/plain": [
              "(251040, 25)"
            ]
          },
          "metadata": {
            "tags": []
          },
          "execution_count": 203
        }
      ]
    },
    {
      "cell_type": "code",
      "metadata": {
        "id": "4xAHZQ9MOd_E",
        "colab_type": "code",
        "outputId": "6903506b-910b-43fc-c08f-c25d85696e9a",
        "colab": {
          "base_uri": "https://localhost:8080/",
          "height": 35
        }
      },
      "source": [
        "# add number of partners per project as a column\n",
        "count_partners_df = cordis_project_orgs_df[['project_rcn', 'organization_id']].groupby( by='project_rcn' ).count()\n",
        "count_partners_df.rename( columns={'organization_id': 'number_of_partners'}, inplace=True )\n",
        "\n",
        "cordis_project_orgs_df = cordis_project_orgs_df.merge(\n",
        "  count_partners_df, on='project_rcn', how='left'\n",
        ")\n",
        "\n",
        "# add number of publications per project as a column\n",
        "count_publications_df = cordis_pub_df[['id', 'project_rcn']].groupby( by='project_rcn' ).count()\n",
        "count_publications_df.rename( columns={'id': 'number_of_publications'}, inplace=True )\n",
        "\n",
        "cordis_project_orgs_df = cordis_project_orgs_df.merge(\n",
        "  count_publications_df, on='project_rcn', how='left'\n",
        ")\n",
        "\n",
        "\n",
        "# shape: should by (something, 27) \n",
        "cordis_project_orgs_df.shape\n"
      ],
      "execution_count": 204,
      "outputs": [
        {
          "output_type": "execute_result",
          "data": {
            "text/plain": [
              "(251040, 27)"
            ]
          },
          "metadata": {
            "tags": []
          },
          "execution_count": 204
        }
      ]
    },
    {
      "cell_type": "code",
      "metadata": {
        "id": "g04kcY5p6Gma",
        "colab_type": "code",
        "outputId": "2dc768f3-df63-4c2d-a214-fbdef494ddbf",
        "colab": {
          "base_uri": "https://localhost:8080/",
          "height": 35
        }
      },
      "source": [
        "# narrow our dataset down to what we want to work with\n",
        "subset = cordis_project_orgs_df[\n",
        "    (cordis_project_orgs_df.activity_type == 'Private for-profit entities (excluding Higher or Secondary Education Establishments)')\n",
        "  & (cordis_project_orgs_df.framework == 'H2020')\n",
        "]\n",
        "\n",
        "df = subset[['organization_id', 'start_date_code', 'funding_scheme', 'number_of_partners', 'number_of_publications', 'ec_contribution_organization', 'ec_contribution_project', 'total_cost_project']]\n",
        "df.shape"
      ],
      "execution_count": 205,
      "outputs": [
        {
          "output_type": "execute_result",
          "data": {
            "text/plain": [
              "(37138, 8)"
            ]
          },
          "metadata": {
            "tags": []
          },
          "execution_count": 205
        }
      ]
    },
    {
      "cell_type": "markdown",
      "metadata": {
        "id": "1wVzLGfIFZJo",
        "colab_type": "text"
      },
      "source": [
        "\n",
        "# Playing with the data\n",
        "\n",
        "(No need to to run anything from in here when preparing data for export.)"
      ]
    },
    {
      "cell_type": "code",
      "metadata": {
        "id": "qSpqE1TZGnL0",
        "colab_type": "code",
        "outputId": "44ab5939-31fe-4e22-dd55-de8094243341",
        "colab": {
          "base_uri": "https://localhost:8080/",
          "height": 165
        }
      },
      "source": [
        "cordis_project_orgs_df.columns"
      ],
      "execution_count": 0,
      "outputs": [
        {
          "output_type": "execute_result",
          "data": {
            "text/plain": [
              "Index(['project_rcn', 'organization_id', 'activity_type', 'address',\n",
              "       'ec_contribution_organization', 'type', 'website_x', 'id', 'name',\n",
              "       'country_code', 'country_name', 'rcn', 'acronym', 'end_date_code',\n",
              "       'ec_contribution_project', 'framework', 'funding_scheme',\n",
              "       'funded_under', 'objective', 'project_description', 'start_date_code',\n",
              "       'status', 'title', 'total_cost_project', 'website_y',\n",
              "       'number_of_partners'],\n",
              "      dtype='object')"
            ]
          },
          "metadata": {
            "tags": []
          },
          "execution_count": 9
        }
      ]
    },
    {
      "cell_type": "code",
      "metadata": {
        "id": "agGlHcvZEJnQ",
        "colab_type": "code",
        "outputId": "7b0310df-d477-470b-a789-dc23fdfd8f02",
        "colab": {
          "base_uri": "https://localhost:8080/",
          "height": 146
        }
      },
      "source": [
        "cordis_project_orgs_df['activity_type'].value_counts()"
      ],
      "execution_count": 0,
      "outputs": [
        {
          "output_type": "execute_result",
          "data": {
            "text/plain": [
              "Higher or Secondary Education Establishments                                                         88335\n",
              "Private for-profit entities (excluding Higher or Secondary Education Establishments)                 78810\n",
              "Research Organisations                                                                               55099\n",
              "Other                                                                                                15406\n",
              "Public bodies (excluding Research Organisations and Secondary or Higher Education Establishments)    12454\n",
              "                                                                                                       936\n",
              "Name: activity_type, dtype: int64"
            ]
          },
          "metadata": {
            "tags": []
          },
          "execution_count": 70
        }
      ]
    },
    {
      "cell_type": "code",
      "metadata": {
        "id": "5-R2gHIuHLIa",
        "colab_type": "code",
        "outputId": "b17ecd57-95d2-4823-d548-26fb0e49aaa7",
        "colab": {
          "base_uri": "https://localhost:8080/",
          "height": 128
        }
      },
      "source": [
        "# within subset, how often do organisations appear\n",
        "subset['organization_id'].value_counts().head()\n",
        "\n"
      ],
      "execution_count": 0,
      "outputs": [
        {
          "output_type": "execute_result",
          "data": {
            "text/plain": [
              "999993856    148\n",
              "999960488     84\n",
              "999909854     79\n",
              "999951467     76\n",
              "999908787     73\n",
              "Name: organization_id, dtype: int64"
            ]
          },
          "metadata": {
            "tags": []
          },
          "execution_count": 36
        }
      ]
    },
    {
      "cell_type": "code",
      "metadata": {
        "id": "vqi_ZO1HKC4D",
        "colab_type": "code",
        "colab": {}
      },
      "source": [
        "subset[['organization_id', 'start_date_code', 'funding_scheme', 'number_of_partners', 'ec_contribution_organization', 'ec_contribution_project', 'total_cost_project']]\n"
      ],
      "execution_count": 0,
      "outputs": []
    },
    {
      "cell_type": "code",
      "metadata": {
        "id": "qIiwnrBp0yM9",
        "colab_type": "code",
        "colab": {}
      },
      "source": [
        "for i in range(100):\n",
        "  print(cordis_project_orgs_df.loc[i + 10000].funded_under[0]['title'])\n",
        "\n"
      ],
      "execution_count": 0,
      "outputs": []
    },
    {
      "cell_type": "markdown",
      "metadata": {
        "id": "KifyiO6cw2Aw",
        "colab_type": "text"
      },
      "source": [
        "# Preparing data for a Sankey diagram\n",
        "\n",
        "\n"
      ]
    },
    {
      "cell_type": "code",
      "metadata": {
        "id": "ds-BbMtCxAhX",
        "colab_type": "code",
        "colab": {
          "base_uri": "https://localhost:8080/",
          "height": 206
        },
        "outputId": "f8739155-ab3b-48e8-905f-6f594beb217f"
      },
      "source": [
        "# putting data in order\n",
        "df = df.sort_values( by=['organization_id', 'start_date_code'] ).reset_index()\n",
        "\n",
        "# add a column that numbers entries per organisation\n",
        "df['organization_entry_number'] = df.groupby('organization_id').cumcount()\n",
        "\n",
        "df[['organization_id', 'start_date_code', 'organization_entry_number']].head()"
      ],
      "execution_count": 208,
      "outputs": [
        {
          "output_type": "execute_result",
          "data": {
            "text/html": [
              "<div>\n",
              "<style scoped>\n",
              "    .dataframe tbody tr th:only-of-type {\n",
              "        vertical-align: middle;\n",
              "    }\n",
              "\n",
              "    .dataframe tbody tr th {\n",
              "        vertical-align: top;\n",
              "    }\n",
              "\n",
              "    .dataframe thead th {\n",
              "        text-align: right;\n",
              "    }\n",
              "</style>\n",
              "<table border=\"1\" class=\"dataframe\">\n",
              "  <thead>\n",
              "    <tr style=\"text-align: right;\">\n",
              "      <th></th>\n",
              "      <th>organization_id</th>\n",
              "      <th>start_date_code</th>\n",
              "      <th>organization_entry_number</th>\n",
              "    </tr>\n",
              "  </thead>\n",
              "  <tbody>\n",
              "    <tr>\n",
              "      <th>0</th>\n",
              "      <td>888888310</td>\n",
              "      <td>2016-12-01</td>\n",
              "      <td>0</td>\n",
              "    </tr>\n",
              "    <tr>\n",
              "      <th>1</th>\n",
              "      <td>888888341</td>\n",
              "      <td>2018-01-01</td>\n",
              "      <td>0</td>\n",
              "    </tr>\n",
              "    <tr>\n",
              "      <th>2</th>\n",
              "      <td>888888620</td>\n",
              "      <td>2017-09-01</td>\n",
              "      <td>0</td>\n",
              "    </tr>\n",
              "    <tr>\n",
              "      <th>3</th>\n",
              "      <td>888888655</td>\n",
              "      <td>2017-03-01</td>\n",
              "      <td>0</td>\n",
              "    </tr>\n",
              "    <tr>\n",
              "      <th>4</th>\n",
              "      <td>888888707</td>\n",
              "      <td>2016-09-01</td>\n",
              "      <td>0</td>\n",
              "    </tr>\n",
              "  </tbody>\n",
              "</table>\n",
              "</div>"
            ],
            "text/plain": [
              "   organization_id start_date_code  organization_entry_number\n",
              "0        888888310      2016-12-01                          0\n",
              "1        888888341      2018-01-01                          0\n",
              "2        888888620      2017-09-01                          0\n",
              "3        888888655      2017-03-01                          0\n",
              "4        888888707      2016-09-01                          0"
            ]
          },
          "metadata": {
            "tags": []
          },
          "execution_count": 208
        }
      ]
    },
    {
      "cell_type": "code",
      "metadata": {
        "id": "Qk_VLpr0QKSS",
        "colab_type": "code",
        "outputId": "000216e4-0611-4f08-f53d-c5e486a7e4b0",
        "colab": {
          "base_uri": "https://localhost:8080/",
          "height": 35
        }
      },
      "source": [
        "# looking at first two entries of organisations\n",
        "first = df[df['organization_entry_number'] == 0]\n",
        "second = df[df['organization_entry_number'] == 1]\n",
        "\n",
        "onestep = second.merge(first, on='organization_id', how='left')\n",
        "\n",
        "\n",
        "# aggregate over funding schemes\n",
        "sankey_df = onestep[['funding_scheme_y', 'funding_scheme_x', 'organization_id']].groupby(['funding_scheme_y', 'funding_scheme_x']).count()\n",
        "\n",
        "# prepare for proper output (index -> columns, renaming)\n",
        "sankey_df.reset_index(level=['funding_scheme_y', 'funding_scheme_x'], inplace=True)\n",
        "sankey_df.rename(columns={'funding_scheme_y':'source', 'funding_scheme_x':'target'}, inplace=True)\n",
        "\n",
        "# add a blank space to all targets (so targets differ from sources)\n",
        "sankey_df['target'] = sankey_df['target'] + ' '\n",
        "\n",
        "sankey_df.shape"
      ],
      "execution_count": 215,
      "outputs": [
        {
          "output_type": "execute_result",
          "data": {
            "text/plain": [
              "(368, 3)"
            ]
          },
          "metadata": {
            "tags": []
          },
          "execution_count": 215
        }
      ]
    },
    {
      "cell_type": "code",
      "metadata": {
        "id": "5Y_wmoSDSuu4",
        "colab_type": "code",
        "colab": {}
      },
      "source": [
        "# export csv\n",
        "sankey_df.to_csv('sankey_onestep_data.csv') \n"
      ],
      "execution_count": 0,
      "outputs": []
    },
    {
      "cell_type": "code",
      "metadata": {
        "id": "fQ3vgsKqUm0-",
        "colab_type": "code",
        "colab": {}
      },
      "source": [
        ""
      ],
      "execution_count": 0,
      "outputs": []
    }
  ]
}