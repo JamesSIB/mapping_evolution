{
  "nbformat": 4,
  "nbformat_minor": 0,
  "metadata": {
    "colab": {
      "name": "map_evo_slides.ipynb",
      "provenance": [],
      "collapsed_sections": [],
      "include_colab_link": true
    },
    "kernelspec": {
      "name": "python3",
      "display_name": "Python 3"
    }
  },
  "cells": [
    {
      "cell_type": "markdown",
      "metadata": {
        "id": "view-in-github",
        "colab_type": "text"
      },
      "source": [
        "<a href=\"https://colab.research.google.com/github/ffg-kom/mapping_evolution/blob/master/map_evo_slides.ipynb\" target=\"_parent\"><img src=\"https://colab.research.google.com/assets/colab-badge.svg\" alt=\"Open In Colab\"/></a>"
      ]
    },
    {
      "cell_type": "markdown",
      "metadata": {
        "id": "P3vtYpts2-tL",
        "colab_type": "text"
      },
      "source": [
        "# Diary\n",
        "\n",
        "A short overview of our day-to-day progress."
      ]
    },
    {
      "cell_type": "markdown",
      "metadata": {
        "id": "_L309Bas27KS",
        "colab_type": "text"
      },
      "source": [
        "**Monday, Oct 21st**\n",
        "* forming a project team\n",
        "* refining (and narrowing down) the project idea\n",
        "* getting a git repository up and running\n"
      ]
    },
    {
      "cell_type": "markdown",
      "metadata": {
        "id": "JB6k3c3Y4INj",
        "colab_type": "text"
      },
      "source": [
        "**Tuesday, Oct 22nd**\n",
        "\n",
        "* first sketches of possible visualisations\n",
        "* assigning tasks"
      ]
    },
    {
      "cell_type": "markdown",
      "metadata": {
        "colab_type": "text",
        "id": "xvBi6pe545W6"
      },
      "source": [
        "# Decisions\n",
        "\n",
        "What we committed to along the way, and why we did it."
      ]
    },
    {
      "cell_type": "markdown",
      "metadata": {
        "id": "2jP4epLH47dT",
        "colab_type": "text"
      },
      "source": [
        "**Documentation in a notebook**\n",
        "\n",
        "**Final result of the project is a notebook**\n"
      ]
    },
    {
      "cell_type": "markdown",
      "metadata": {
        "id": "z3Nz0yi63vuZ",
        "colab_type": "text"
      },
      "source": [
        "# Tasks\n",
        "\n",
        "This is to keep up with our tasks and document on how everyone can contribute."
      ]
    },
    {
      "cell_type": "markdown",
      "metadata": {
        "id": "xmd4ZSE1wtU0",
        "colab_type": "text"
      },
      "source": [
        "**Tasks**\n",
        "\n",
        "*   get data ready (Marvin)\n",
        "   *   connect to the data\n",
        "   *   define subset (private commercial, some programme...)\n",
        "   *   getting data in right format for visualisation\n",
        "*   look into visualisation tools (James)\n",
        "   * networks\n",
        "      * networkX\n",
        "      * GraphTool\n",
        "      * bokeh\n",
        "      * gephi\n",
        "   * sankey\n",
        "      * ???\n",
        "* assessing success of organisations (Adrian)\n",
        "   * machine learning?\n",
        "   \n",
        "\n"
      ]
    },
    {
      "cell_type": "markdown",
      "metadata": {
        "id": "yZWeCwg-3eHJ",
        "colab_type": "text"
      },
      "source": [
        "# Lessons learned\n"
      ]
    },
    {
      "cell_type": "markdown",
      "metadata": {
        "id": "eVYLzhFJ4lNH",
        "colab_type": "text"
      },
      "source": [
        ""
      ]
    }
  ]
}