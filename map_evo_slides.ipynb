{
  "nbformat": 4,
  "nbformat_minor": 0,
  "metadata": {
    "colab": {
      "name": "map_evo_slides.ipynb",
      "provenance": [],
      "include_colab_link": true
    },
    "kernelspec": {
      "name": "python3",
      "display_name": "Python 3"
    }
  },
  "cells": [
    {
      "cell_type": "markdown",
      "metadata": {
        "id": "view-in-github",
        "colab_type": "text"
      },
      "source": [
        "<a href=\"https://colab.research.google.com/github/ffg-kom/mapping_evolution/blob/master/map_evo_slides.ipynb\" target=\"_parent\"><img src=\"https://colab.research.google.com/assets/colab-badge.svg\" alt=\"Open In Colab\"/></a>"
      ]
    },
    {
      "cell_type": "code",
      "metadata": {
        "id": "L6svKeY1woAr",
        "colab_type": "code",
        "colab": {}
      },
      "source": [
        ""
      ],
      "execution_count": 0,
      "outputs": []
    },
    {
      "cell_type": "markdown",
      "metadata": {
        "id": "xmd4ZSE1wtU0",
        "colab_type": "text"
      },
      "source": [
        "**Tasks**\n",
        "\n",
        "*   get data ready (Marvin)\n",
        "   *   connect to the data\n",
        "   *   define subset (private commercial, some programme...)\n",
        "   *   getting data in right format for visualisation\n",
        "*   look into visualisation tools (James)\n",
        "   * networks\n",
        "      * networkX\n",
        "      * GraphTool\n",
        "      * bokeh\n",
        "      * gephi\n",
        "   * sankey\n",
        "      * ???\n",
        "* assessing success of organisations (Adrian)\n",
        "   * machine learning?\n",
        "   \n",
        "\n"
      ]
    }
  ]
}