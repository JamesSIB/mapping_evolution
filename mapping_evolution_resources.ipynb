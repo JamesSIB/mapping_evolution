{
  "nbformat": 4,
  "nbformat_minor": 0,
  "metadata": {
    "colab": {
      "name": "mapping_evolution_resources.ipynb",
      "provenance": [],
      "collapsed_sections": [],
      "include_colab_link": true
    },
    "kernelspec": {
      "name": "python3",
      "display_name": "Python 3"
    }
  },
  "cells": [
    {
      "cell_type": "markdown",
      "metadata": {
        "id": "view-in-github",
        "colab_type": "text"
      },
      "source": [
        "<a href=\"https://colab.research.google.com/github/ffg-kom/mapping_evolution/blob/master/mapping_evolution_resources.ipynb\" target=\"_parent\"><img src=\"https://colab.research.google.com/assets/colab-badge.svg\" alt=\"Open In Colab\"/></a>"
      ]
    },
    {
      "cell_type": "markdown",
      "metadata": {
        "id": "rISarO6uTVyn",
        "colab_type": "text"
      },
      "source": [
        "**An Intro to Git and GitHub for Beginners (Tutorial)**\n",
        "\n",
        "https://product.hubspot.com/blog/git-and-github-tutorial-for-beginners"
      ]
    },
    {
      "cell_type": "markdown",
      "metadata": {
        "id": "3o7tiZKNbV3y",
        "colab_type": "text"
      },
      "source": [
        "**Create a new repository on the git command line**\n",
        "\n",
        "```\n",
        "cd /c/[path to your local folder for this project]\n",
        "git init\n",
        "git add test.txt\n",
        "git commit -m \"first commit\"\n",
        "git remote add origin https://github.com/ffg-kom/mapping_evolution.git\n",
        "git push -u origin master\n",
        "```\n",
        "\n"
      ]
    },
    {
      "cell_type": "code",
      "metadata": {
        "id": "O5qp-VlubW8Q",
        "colab_type": "code",
        "colab": {}
      },
      "source": [
        ""
      ],
      "execution_count": 0,
      "outputs": []
    },
    {
      "cell_type": "code",
      "metadata": {
        "id": "g_I9jLxtdJ8g",
        "colab_type": "code",
        "colab": {}
      },
      "source": [
        ""
      ],
      "execution_count": 0,
      "outputs": []
    }
  ]
}